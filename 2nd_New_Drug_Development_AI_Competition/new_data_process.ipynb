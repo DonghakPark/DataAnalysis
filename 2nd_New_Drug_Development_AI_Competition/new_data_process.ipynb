{
 "cells": [
  {
   "cell_type": "code",
   "execution_count": 3,
   "metadata": {},
   "outputs": [],
   "source": [
    "import pandas as pd\n",
    "import numpy as np\n",
    "import os, random\n",
    "\n",
    "from rdkit import Chem\n",
    "from rdkit.Chem import AllChem\n",
    "from sklearn.model_selection import train_test_split\n",
    "from sklearn.ensemble import RandomForestRegressor\n",
    "from sklearn.metrics import mean_squared_error"
   ]
  },
  {
   "cell_type": "code",
   "execution_count": 4,
   "metadata": {},
   "outputs": [],
   "source": [
    "need_col = ['Molecule ChEMBL ID',\n",
    "       'Standard Value',\n",
    "       'pChEMBL Value',\n",
    "       'IC50_nM',\n",
    "       'pIC50',\n",
    "       'Smiles']"
   ]
  },
  {
   "cell_type": "code",
   "execution_count": 67,
   "metadata": {},
   "outputs": [],
   "source": [
    "import csv \n",
    "filed_name =  ['Smiles', 'IC50_nM']\n",
    "data_dict = []\n",
    "with open('./Data/new_data1.csv', 'r') as csvfile:\n",
    "  contents = csv.reader(csvfile)\n",
    "  \n",
    "  for line in contents:\n",
    "    data_dict.append({\n",
    "      'Smiles' : line[1],\n",
    "      'IC50_nM' : line[2]\n",
    "    })\n",
    "  \n",
    "f = open(\"new_data_processed.csv\", \"w\")\n",
    "writer = csv.DictWriter(f, fieldnames=filed_name)\n",
    "writer.writeheader()\n",
    "for data in data_dict:\n",
    "  writer.writerow(data)\n",
    "f.close()"
   ]
  },
  {
   "cell_type": "code",
   "execution_count": null,
   "metadata": {},
   "outputs": [],
   "source": []
  }
 ],
 "metadata": {
  "kernelspec": {
   "display_name": "Python 3",
   "language": "python",
   "name": "python3"
  },
  "language_info": {
   "codemirror_mode": {
    "name": "ipython",
    "version": 3
   },
   "file_extension": ".py",
   "mimetype": "text/x-python",
   "name": "python",
   "nbconvert_exporter": "python",
   "pygments_lexer": "ipython3",
   "version": "3.11.2"
  }
 },
 "nbformat": 4,
 "nbformat_minor": 2
}
