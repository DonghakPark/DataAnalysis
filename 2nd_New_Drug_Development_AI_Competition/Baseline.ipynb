{
 "cells": [
  {
   "cell_type": "code",
   "execution_count": null,
   "metadata": {},
   "outputs": [
    {
     "ename": "",
     "evalue": "",
     "output_type": "error",
     "traceback": [
      "\u001b[1;31m'Python 3.11.2'(으)로 셀을 실행하려면 ipykernel 패키지가 필요합니다.\n",
      "\u001b[1;31m다음 명령어를 실행하여 Python 환경에 'ipykernel'을(를) 설치합니다. \n",
      "\u001b[1;31m 명령: 'c:/Users/ghfh0/AppData/Local/Programs/Python/Python311/python.exe -m pip install ipykernel -U --user --force-reinstall'"
     ]
    }
   ],
   "source": [
    "import pandas as pd\n",
    "import numpy as np\n",
    "import os\n",
    "import random\n",
    "\n",
    "from rdkit import Chem\n",
    "from rdkit.Chem import AllChem\n",
    "from sklearn.model_selection import train_test_split\n",
    "from sklearn.ensemble import RandomForestRegressor\n",
    "from sklearn.metrics import mean_squared_error\n",
    "\n",
    "CFG = {\n",
    "    'NBITS':2048,\n",
    "    'SEED':42,\n",
    "}\n",
    "\n",
    "def seed_everything(seed):\n",
    "    random.seed(seed)\n",
    "    os.environ['PYTHONHASHSEED'] = str(seed)\n",
    "    np.random.seed(seed)\n",
    "seed_everything(CFG['SEED']) # Seed 고정\n",
    "\n",
    "# SMILES 데이터를 분자 지문으로 변환\n",
    "def smiles_to_fingerprint(smiles):\n",
    "    mol = Chem.MolFromSmiles(smiles)\n",
    "    if mol is not None:\n",
    "        fp = AllChem.GetMorganFingerprintAsBitVect(mol, 2, nBits=CFG['NBITS'])\n",
    "        return np.array(fp)\n",
    "    else:\n",
    "        return np.zeros((CFG['NBITS'],))\n",
    "\n",
    "# 학습 ChEMBL 데이터 로드\n",
    "chembl_data = pd.read_csv('train.csv')  # 예시 파일 이름\n",
    "chembl_data.head()\n",
    "\n",
    "train = chembl_data[['Smiles', 'pIC50']]\n",
    "train['Fingerprint'] = train['Smiles'].apply(smiles_to_fingerprint)\n",
    "\n",
    "train_x = np.stack(train['Fingerprint'].values)\n",
    "train_y = train['pIC50'].values\n",
    "\n",
    "# 학습 및 검증 데이터 분리\n",
    "train_x, val_x, train_y, val_y = train_test_split(train_x, train_y, test_size=0.3, random_state=42)\n",
    "\n",
    "# 랜덤 포레스트 모델 학습\n",
    "model = RandomForestRegressor(random_state=CFG['SEED'])\n",
    "model.fit(train_x, train_y)\n",
    "\n",
    "def pIC50_to_IC50(pic50_values):\n",
    "    \"\"\"Convert pIC50 values to IC50 (nM).\"\"\"\n",
    "    return 10 ** (9 - pic50_values)\n",
    "\n",
    "# Validation 데이터로부터의 학습 모델 평가\n",
    "val_y_pred = model.predict(val_x)\n",
    "mse = mean_squared_error(pIC50_to_IC50(val_y), pIC50_to_IC50(val_y_pred))\n",
    "rmse = np.sqrt(mse)\n",
    "\n",
    "print(f'RMSE: {rmse}')\n",
    "\n",
    "test = pd.read_csv('./test.csv')\n",
    "test['Fingerprint'] = test['Smiles'].apply(smiles_to_fingerprint)\n",
    "\n",
    "test_x = np.stack(test['Fingerprint'].values)\n",
    "\n",
    "test_y_pred = model.predict(test_x)\n",
    "\n",
    "submit = pd.read_csv('./sample_submission.csv')\n",
    "submit['IC50_nM'] = pIC50_to_IC50(test_y_pred)\n",
    "submit.head()\n",
    "\n",
    "submit.to_csv('./baseline_submit.csv', index=False)"
   ]
  },
  {
   "cell_type": "code",
   "execution_count": null,
   "metadata": {},
   "outputs": [],
   "source": []
  }
 ],
 "metadata": {
  "kernelspec": {
   "display_name": "Python 3",
   "language": "python",
   "name": "python3"
  },
  "language_info": {
   "name": "python",
   "version": "3.11.2"
  }
 },
 "nbformat": 4,
 "nbformat_minor": 2
}
